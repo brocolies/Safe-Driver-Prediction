import sys
import os
sys.path.append(os.path.abspath('..'))  # Add project root to Python path
import numpy as np
import pandas as pd
import seaborn as sns
import matplotlib.pyplot as plt
%matplotlib inline


from src.utils import load_train_data, load_test_data, resumetable, col_value_counts
train_df = load_train_data()
test_df = load_test_data()


all_data = pd.concat([train_df, test_df], ignore_index=True)
target = all_data['target']
all_data = all_data.drop(columns='target')


all_data = all_data.drop(columns=['ps_ind_10_bin', 'ps_ind_11_bin', 'ps_ind_13_bin', 'ps_ind_18_bin', 'ps_ind_14'])
for feature in all_features:
    if ('calc' in feature):
        all_data = all_data.drop(columns=[feature])



