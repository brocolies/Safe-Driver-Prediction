import sys
import os
sys.path.append(os.path.abspath('..'))  # Add project root to Python path
import numpy as np
import pandas as pd
import seaborn as sns
import matplotlib.pyplot as plt
%matplotlib inline


from src.utils import load_train_data, load_test_data
train_df = load_train_data()
test_df = load_test_data()


train_df.head(10)


train_df.info()


# target = train_df['target']
train_id = train_df['id']
train_df = train_df.drop(columns = ['id'])


train_df.shape, test_df.shape


(train_df == -1).sum()
# df.isnull().sum()만으로 결측치 알 수 없음 


def resumetable(df):
    print(f'Data set: {df.shape}')
    summary = pd.DataFrame(df.dtypes, columns=['Data Type'])
    summary['Missing Data'] = (df == -1).sum().values
    summary['Nunique'] = df.nunique().values
    summary['Feature Type'] = None
    for col in df.columns:
        if 'bin' in col:
            summary.loc[col, 'Feature Type'] = 'Binary'
        elif 'cat' in col:
            summary.loc[col, 'Feature Type'] = 'Nominal'
        elif df[col].dtype == float:
            summary.loc[col, 'Feature Type'] = 'Continuous'
        elif df[col].dtype == int:
            summary.loc[col, 'Feature Type'] = 'Ordinal'

    return summary


summary = resumetable(train_df)
display(summary)


def write_percent(ax, total_size):
    for patch in ax.patches:
        height = patch.get_height()
        width = patch.get_width()
        left_coord = patch.get_x()
        percent = height / total_size * 100

        ax.text(left_coord + width/2.0,
            height + total_size * 0.001,
            '{:1.1f}%'.format(percent),
            ha='center')


plt.figure(figsize=(7,6))
ax = sns.countplot(x='target', data=train_df)
write_percent(ax, len(train_df))
ax.set_title('Target Distribution')

write_percent(ax, len(train_df))
plt.show()





def plot_multiple_axes(df, cols, plot_type='hist', target=None, n_cols=3, height=4, bins=30, xrot=0, exclude_cols=None):
    """
    여러 피처의 시각화를 한 번에 출력하는 범용 함수
    특정 피처를 제외하고 시각화할 수 있는 기능을 추가.
    boxplot/violinplot 시 target을 x축으로 고정하여 분포 비교에 최적화.

    Parameters:
        df (pd.DataFrame): 데이터프레임
        cols (list): 시각화할 전체 컬럼 리스트 (exclude_cols에 따라 필터링됨)
        plot_type (str): 'hist', 'count', 'bar', 'box', 'violin' 중 하나
        target (str, optional): barplot, boxplot, violinplot일 경우 사용할 타겟 변수명.
                                 'bar'일 땐 y축, 'box'/'violin'일 땐 x축으로 사용됨.
        n_cols (int): 한 줄에 그릴 그래프 수
        height (int): 서브플롯 하나의 높이
        bins (int): histplot용 구간 수
        xrot (int): x축 레이블 회전 각도
        exclude_cols (list, optional): 시각화에서 제외할 컬럼 리스트. 기본값은 None.
    """
    # 제외할 컬럼 필터링
    # cols는 Index 타입일 수도 리스트 타입일 수도 있으므로, 리스트로 변환하여 처리.
    cols_list = cols.tolist() if isinstance(cols, pd.Index) else list(cols)

    if exclude_cols:
        cols_to_plot = [col for col in cols_list if col not in exclude_cols]
    else:
        cols_to_plot = cols_list

    # 필터링된 컬럼 리스트가 비어있는지 확인
    if not cols_to_plot: # 이 부분이 if not cols_to_plot: 이었음.
        print("시각화할 컬럼이 없습니다.")
        return

    n_rows = (len(cols_to_plot) + n_cols - 1) // n_cols
    fig, axes = plt.subplots(n_rows, n_cols, figsize=(n_cols * 5, n_rows * height))
    axes = axes.flatten()

    for i, col in enumerate(cols_to_plot):
        ax = axes[i]
        if plot_type == 'hist':
            sns.histplot(data=df, x=col, bins=bins, ax=ax, kde=True, hue=col, palette='pastel', legend=False)
        elif plot_type == 'count':
            sns.countplot(data=df, x=col, ax=ax, hue=col, palette='pastel', legend=False)
        elif plot_type == 'bar' and target:
            sns.barplot(data=df, x=col, y=target, ax=ax, hue=col, palette='pastel', legend=False)
        elif plot_type == 'box' and target:
            sns.boxplot(data=df, x=target, y=col, ax=ax, hue=col, palette='pastel', legend=False)
        elif plot_type == 'violin' and target:
            sns.violinplot(data=df, x=target, y=col, ax=ax, hue=col, palette='pastel', legend=False)
        else:
            ax.text(0.5, 0.5, 'Invalid plot_type or missing target', ha='center')

        ax.set_title(f'{col} ({plot_type})')
        ax.tick_params(axis='x', rotation=xrot)

    # 여분 축 제거
    # 현재 i는 마지막으로 그려진 플롯의 인덱스이므로, i+1부터 제거 시작
    for j in range(i + 1, len(axes)):
        fig.delaxes(axes[j])

    plt.tight_layout()
    plt.show()

# Helper function to write percentages on countplots/barplots (for completeness)
def write_percent(ax, total_size):
    for patch in ax.patches:
        height = patch.get_height()
        width = patch.get_width()
        left_coord = patch.get_x()
        percent = height / total_size * 100

        ax.text(left_coord + width/2.0,
            height + total_size * 0.001,
            '{:1.1f}%'.format(percent),\
            ha='center')


bin_features = summary[summary['Feature Type'] == 'Binary'].index.tolist()
plot_multiple_axes(train_df, bin_features, plot_type='bar', target='target', n_cols=3, height=6)


nom_features = summary[summary['Feature Type'] == 'Nominal'].index
plot_multiple_axes(train_df, nom_features, plot_type='bar', target='target', n_cols=3, height=5)


ord_features = summary[summary['Feature Type'] == 'Ordinal'].index
plot_multiple_axes(train_df, ord_features, plot_type='bar', target='target', n_cols=3, height=6)


print("--- ps_ind_10_bin value_counts ---")
print(train_df['ps_ind_10_bin'].value_counts())

print("\n--- ps_ind_11_bin value_counts ---")
print(train_df['ps_ind_11_bin'].value_counts())

print("\n--- ps_ind_13_bin value_counts ---")
print(train_df['ps_ind_13_bin'].value_counts())

print("\n--- ps_ind_12_bin value_counts ---")
print(train_df['ps_ind_12_bin'].value_counts())

print("\n--- ps_ind_17_bin value_counts ---")
print(train_df['ps_ind_17_bin'].value_counts())


def col_value_counts(df, column):
    print(f'--- {column} value_counts ---')
    print(df[column].value_counts())


col_value_counts(train_df, 'ps_calc_13')


col_value_counts(train_df, 'ps_ind_14')
col_value_counts(train_df, 'ps_car_10_cat')


cont_features = summary[summary['Feature Type'] == 'Continuous'].index # index: summary df에서 특정 조건 만족하는 행의 '인덱스'만을 추출
corr_cols = cont_features.tolist() + ['target']
corr_df = train_df[corr_cols]
corr_df.corr()


plot_multiple_axes(train_df, cont_features, plot_type='box', target='target', n_cols=3, height=4)


col_value_counts(corr_df, 'ps_car_15')


col_cont = ['ps_reg_03', 'ps_car_12', 'ps_car_13', 'ps_car_14']
col_not_cont = []
for col in cont_features:
    if (col not in col_cont):
        col_not_cont.append(col)


print(cont_features)
print(col_cont)
print(col_not_cont)


plot_multiple_axes(train_df, col_not_cont, plot_type='bar', target='target', n_cols=3, height=4)
plt.show()


train_df_binned = train_df.copy()
for col in col_cont:
    train_df_binned[col] = pd.qcut(train_df[col], 5)


plot_multiple_axes(train_df_binned, col_cont, plot_type='bar', target='target', n_cols=2, height=2, xrot=20)
plt.show()


plt.figure(figsize=(10,8))
cont_corr = train_df[cont_features].corr()
sns.heatmap(cont_corr, annot=True, cmap='OrRd')
plt.show()












