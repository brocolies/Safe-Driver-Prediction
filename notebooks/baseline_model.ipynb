{
 "cells": [
  {
   "cell_type": "code",
   "execution_count": 2,
   "id": "010bc295-ae95-41ef-9ab3-bf6344de89af",
   "metadata": {},
   "outputs": [],
   "source": [
    "import sys\n",
    "import os\n",
    "sys.path.append(os.path.abspath('..'))  # Add project root to Python path\n",
    "import numpy as np\n",
    "import pandas as pd\n",
    "import seaborn as sns\n",
    "import matplotlib.pyplot as plt\n",
    "%matplotlib inline"
   ]
  },
  {
   "cell_type": "code",
   "execution_count": 3,
   "id": "4e5d797a-81b1-4392-b961-90a662c5ab93",
   "metadata": {},
   "outputs": [
    {
     "ename": "NameError",
     "evalue": "name 'load' is not defined",
     "output_type": "error",
     "traceback": [
      "\u001b[0;31m---------------------------------------------------------------------------\u001b[0m",
      "\u001b[0;31mNameError\u001b[0m                                 Traceback (most recent call last)",
      "Cell \u001b[0;32mIn[3], line 4\u001b[0m\n\u001b[1;32m      2\u001b[0m train_df \u001b[38;5;241m=\u001b[39m load_train_data()\n\u001b[1;32m      3\u001b[0m test_df \u001b[38;5;241m=\u001b[39m load_test_data()\n\u001b[0;32m----> 4\u001b[0m submission \u001b[38;5;241m=\u001b[39m \u001b[43mload\u001b[49m\n",
      "\u001b[0;31mNameError\u001b[0m: name 'load' is not defined"
     ]
    }
   ],
   "source": [
    "from src.utils import load_train_data, load_test_data, resumetable, col_value_counts\n",
    "train_df = load_train_data()\n",
    "test_df = load_test_data()\n",
    "submission = load"
   ]
  },
  {
   "cell_type": "code",
   "execution_count": null,
   "id": "1d75419c-a78b-4c16-9235-bdd3194d5395",
   "metadata": {},
   "outputs": [],
   "source": [
    "all_data = pd.concat([train_df, test_df], ignore_index=True)\n",
    "all_data = all_data.drop('target', axis=1)"
   ]
  },
  {
   "cell_type": "code",
   "execution_count": null,
   "id": "7460e056-a7b3-46bb-ab25-03968d697650",
   "metadata": {},
   "outputs": [],
   "source": [
    "all_features = all_data.columns\n",
    "all_features"
   ]
  },
  {
   "cell_type": "code",
   "execution_count": null,
   "id": "30bb38d2-dc0a-401b-bbf1-baa0d099f538",
   "metadata": {},
   "outputs": [],
   "source": [
    "all_data"
   ]
  },
  {
   "cell_type": "code",
   "execution_count": null,
   "id": "57b0c97c-b7de-41e1-9f4c-030f9a8fbb9c",
   "metadata": {},
   "outputs": [],
   "source": [
    "all_data = all_data.drop(columns=['ps_ind_10_bin', 'ps_ind_11_bin', 'ps_ind_13_bin', 'ps_ind_18_bin', 'ps_ind_14'])"
   ]
  },
  {
   "cell_type": "code",
   "execution_count": null,
   "id": "f6f229bb-304b-4f3a-b1ae-efaa80d36169",
   "metadata": {},
   "outputs": [],
   "source": [
    "for feature in all_features:\n",
    "    if ('calc' in feature):\n",
    "        all_data = all_data.drop(columns=[feature])"
   ]
  },
  {
   "cell_type": "code",
   "execution_count": null,
   "id": "5b1398be-10e3-42c1-a79a-15456bb3121f",
   "metadata": {},
   "outputs": [],
   "source": [
    "all_data.columns"
   ]
  },
  {
   "cell_type": "code",
   "execution_count": null,
   "id": "302a8b2c-2394-4203-a3db-09854f132ffa",
   "metadata": {},
   "outputs": [],
   "source": [
    "all_data_df = resumetable(all_data)"
   ]
  },
  {
   "cell_type": "code",
   "execution_count": null,
   "id": "89d847c1-9b40-4e0e-b25b-9a1bb73a7a28",
   "metadata": {},
   "outputs": [],
   "source": [
    "missing_data = all_data_df[all_data_df['Missing'] > 0]\n",
    "missing_data.sort_values(by='Missing', ascending=False)"
   ]
  },
  {
   "cell_type": "code",
   "execution_count": null,
   "id": "649cf12c-75b3-4d12-8ad7-c199c79ae6c9",
   "metadata": {},
   "outputs": [],
   "source": [
    "col_value_counts(all_data, 'ps_car_11')"
   ]
  },
  {
   "cell_type": "code",
   "execution_count": null,
   "id": "c4008881-1fad-4dac-839f-01d047ed61b7",
   "metadata": {},
   "outputs": [],
   "source": [
    "# 중앙값 대체 \n",
    "continuois_features_to_impute = ['ps_reg_03', 'ps_car_14', 'ps_car_12']\n",
    "for feature in continuois_features_to_impute:\n",
    "    all_data[feature] = all_data[feature].replace(-1, np.nan)\n",
    "    median_val = all_data[feature].median()\n",
    "    all_data[feature] = all_data[feature].fillna(median_val)"
   ]
  },
  {
   "cell_type": "code",
   "execution_count": null,
   "id": "7185808c-b94b-4c06-98d5-c7c8aec86e48",
   "metadata": {},
   "outputs": [],
   "source": [
    "all_data_df = resumetable(all_data)\n",
    "missing_data = all_data_df[all_data_df['Missing'] > 0]\n",
    "missing_data.sort_values(by='Missing', ascending=False)"
   ]
  },
  {
   "cell_type": "code",
   "execution_count": null,
   "id": "df73cf67-141c-4ff9-90af-6ee49a1273d6",
   "metadata": {},
   "outputs": [],
   "source": [
    "all_data['ps_car_11'] = all_data['ps_car_11'].replace(-1, 3)"
   ]
  },
  {
   "cell_type": "code",
   "execution_count": null,
   "id": "3720ec91-c406-4675-9d37-a33c9c2c0887",
   "metadata": {},
   "outputs": [],
   "source": [
    "all_data"
   ]
  },
  {
   "cell_type": "code",
   "execution_count": null,
   "id": "532c537f-66f1-4bda-91f2-9bffbf20ff93",
   "metadata": {},
   "outputs": [],
   "source": [
    "num_train_df = len(train_df)\n",
    "X = all_data[:num_train_df]\n",
    "X_test = all_data[num_train_df:]\n",
    "y = train_df['target'].values"
   ]
  },
  {
   "cell_type": "code",
   "execution_count": null,
   "id": "868b7e2f-ac5c-47b8-ac05-a3de48ec3cd3",
   "metadata": {},
   "outputs": [],
   "source": [
    "def eval_gini(y_true, y_pred):\n",
    "    assert y_true.shape == y_pred.shape\n",
    "    n_samples = y_true.shape[0]\n",
    "    L_mid = np.linspace(1 / n_samples, 1, n_samples)\n",
    "\n",
    "    # 예측값에 대한 지니계수 \n",
    "    pred_order = y_true[y_pred.argsort()]\n",
    "    L_pred = np.cumsum(pred_order) / np.sum(pred_order)\n",
    "    G_pred = np.sum(L_mid - L_pred)\n",
    "\n",
    "    # 예측이 완벽할 때 지니계수 \n",
    "    true_order = y_true[y_true.argsort()]\n",
    "    L_true = np.cumsum(true_order) / np.sum(true_order)\n",
    "    G_true = np.sum(L_mid - L_true)\n",
    "\n",
    "    return G_pred / G_true"
   ]
  },
  {
   "cell_type": "code",
   "execution_count": null,
   "id": "c5f218ce-138b-4551-9421-22ee1e2e6d50",
   "metadata": {},
   "outputs": [],
   "source": [
    "# 기본적으로 lightgbm에서 내장 평가지표 지원하지만, 경진대회 요구 평가지표 코드\n",
    "def gini(preds, dtrain):\n",
    "    labels = dtrain.get_label()\n",
    "    return 'gini', eval_gini(labels, preds), True"
   ]
  },
  {
   "cell_type": "code",
   "execution_count": null,
   "id": "581989a4-326d-4c85-b447-7f80ff432b4c",
   "metadata": {},
   "outputs": [],
   "source": [
    "from sklearn.model_selection import StratifiedKFold\n",
    "\n",
    "folds = StratifiedKFold(n_splits=5, shuffle=True, random_state=44)"
   ]
  },
  {
   "cell_type": "code",
   "execution_count": null,
   "id": "387b8f62-708b-432d-8792-6000000a16dd",
   "metadata": {},
   "outputs": [],
   "source": [
    "oof_val_preds = np.zeros(X.shape[0]) # OOF에서 훈련된 모델로 검증 데이터 타깃값을 예측한 확률 담을 배열\n",
    "oof_test_preds = np.zeros(X_test.shape[0]) # OOF에서 훈련된 모델로 테스트 데이터 타깃값을 예측한 확률 담을 배열\n",
    "'''\n",
    "\t1.\t전체 데이터 X.shape[0]은 100개\n",
    "\t2.\toof_val_preds = np.zeros(100) ← 먼저 100개의 빈 공간 마련\n",
    "\t3.\t각 Fold 순회 시 마다:\n",
    "    \t• Fold 1: train 80개, val 20개\n",
    "    \t• 모델은 train으로 학습, val로 예측 → 예측 결과 20개 나옴\n",
    "    \t• 이 20개의 예측값을 원래 val_index 위치에 넣어줌\n",
    "'''"
   ]
  },
  {
   "cell_type": "code",
   "execution_count": null,
   "id": "01b9bd5a-349e-45c2-b978-bf138d7918f7",
   "metadata": {},
   "outputs": [],
   "source": [
    "params = {\n",
    "    'objective': 'binary',\n",
    "    'learning_rate': 0.01,\n",
    "    'random_state': 44,\n",
    "}\n",
    "# params 딕셔너리에는 모델의 핵심 하이퍼 파라미터 사용\n",
    "# 함수의 직접적인 인자로는 학습 실행과 관련된 제어요소 사용\n",
    "\n",
    "import lightgbm as lgb\n",
    "\n",
    "for idx, (train_idx, valid_idx) in enumerate(folds.split(X,y)):\n",
    "    print(f'Fold {idx+1} / Fold {folds.n_splits}')\n",
    "# split(X,y): folds 객체의 메서드 \n",
    "# x와 y 데이터를 K개의 폴드로 분할 -> 실제 분할은 x, 데이터의 인덱스(위치 정보) 생성하여 반환\n",
    "# enumerate(): 이터러블(iterable) 객체(folds.split(X,y)가 반환하는 이터레이터)를 순회하면서, 각 항목에 인덱스(순서 번호)를 부여\n",
    "# for idx, (train_idx, valid_idx) in ...: (train_idx, valid_idx): folds.split(X,y)가 반환하는 튜플의 언패킹(unpacking)\n",
    "# train_idx: 훈련 데이터 샘플들의 인덱스 배열, valid_idx: 검증 데이터 샘플들의 인덱스 배열\n",
    "# idx: enumerate 함수가 부여하는 현재 반복의 인덱스 번호(0 ~ n_splits-1)\n",
    "    \n",
    "    # 훈련용/검증용 데이터 설정 \n",
    "    X_train, y_train = X.iloc[train_idx], y[train_idx]\n",
    "    X_valid, y_valid = X.iloc[valid_idx], y[valid_idx]\n",
    "\n",
    "    # LightGBM 전용 데이터셋 설정 \n",
    "    dtrain = lgb.Dataset(X_train, y_train)\n",
    "    dvalid = lgb.Dataset(X_valid, y_valid)\n",
    "\n",
    "    # LightGBM 모델 훈련\n",
    "    lgb_model = lgb.train(\n",
    "        params = params,\n",
    "        train_set = dtrain,\n",
    "        valid_sets = [dvalid],\n",
    "        feval = gini,\n",
    "        num_boost_round = 1000,\n",
    "        callbacks=[\n",
    "            lgb.early_stopping(stopping_rounds=100, verbose=False), \n",
    "            # early_stopping_rounds 대체\n",
    "            lgb.log_evaluation(period=100) \n",
    "            # 학습 진행 상황 출력\n",
    "            # Boosting Round(트리의 개수)가 100씩 증가하며 \n",
    "            # 특정 번째 트리를 학습한 시점에서 검증 성능 출력\n",
    "        ]\n",
    "    )\n",
    "    # 이 코드 마무리 되었을 때 fold 1에 대한 학습과 종료 \n",
    "\n",
    "    oof_test_preds += lgb_model.predict(X_test)/folds.n_splits\n",
    "    # 이 코드 실행되었을 때 fold 1에 대한 예측치 모두 리스트에 채워짐\n",
    "    oof_val_preds[valid_idx] += lgb_model.predict(X_valid)\n",
    "\n",
    "    gini_score = eval_gini(y_valid, oof_val_preds[valid_idx])\n",
    "    print(f'Fold {idx+1} gini score: {gini_score}\\n')\n",
    "\n",
    "    # 출력값 binary_logloss: params에 입력된 binary 인식하여 모델의 예측 확률과 실제 레이블의 일치도 측정, 낮을수록 정확\n"
   ]
  },
  {
   "cell_type": "code",
   "execution_count": null,
   "id": "50a92ae9-05c6-4c19-bfb7-bcffe04c9bac",
   "metadata": {},
   "outputs": [],
   "source": [
    "print('OOF Data Gini:', eval_gini(y, oof_val_preds))"
   ]
  },
  {
   "cell_type": "code",
   "execution_count": null,
   "id": "f2c472da-bff2-4486-9ac6-db8b41f7186b",
   "metadata": {},
   "outputs": [],
   "source": [
    "submission = pd.DataFrame({'id': test_df['id'], 'target': oof_test_preds})\n",
    "submission['target'] = oof_test_preds\n",
    "submission.to_csv('submission.csv', index=False)"
   ]
  },
  {
   "cell_type": "code",
   "execution_count": null,
   "id": "7b421d73-6f30-4e25-ab63-1a34ec79af80",
   "metadata": {},
   "outputs": [],
   "source": []
  }
 ],
 "metadata": {
  "kernelspec": {
   "display_name": "Python [conda env:base] *",
   "language": "python",
   "name": "conda-base-py"
  },
  "language_info": {
   "codemirror_mode": {
    "name": "ipython",
    "version": 3
   },
   "file_extension": ".py",
   "mimetype": "text/x-python",
   "name": "python",
   "nbconvert_exporter": "python",
   "pygments_lexer": "ipython3",
   "version": "3.10.13"
  }
 },
 "nbformat": 4,
 "nbformat_minor": 5
}
