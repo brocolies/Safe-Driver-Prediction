{
 "cells": [
  {
   "cell_type": "code",
   "execution_count": 1,
   "id": "0ec6fab4-c69a-43c2-ab10-ca79a3c9f114",
   "metadata": {},
   "outputs": [],
   "source": [
    "import sys\n",
    "import os\n",
    "sys.path.append(os.path.abspath('..'))  # Add project root to Python path\n",
    "import numpy as np\n",
    "import pandas as pd\n",
    "import seaborn as sns\n",
    "import matplotlib.pyplot as plt\n",
    "%matplotlib inline"
   ]
  },
  {
   "cell_type": "code",
   "execution_count": 2,
   "id": "47fab34d-8d99-4032-a683-6dcff2bbc53a",
   "metadata": {},
   "outputs": [],
   "source": [
    "from src.utils import load_train_data, load_test_data, resumetable, col_value_counts\n",
    "train_df = load_train_data()\n",
    "test_df = load_test_data()"
   ]
  },
  {
   "cell_type": "code",
   "execution_count": 3,
   "id": "f6c9bace-f096-43ae-ad2f-5cbd0ef0ee80",
   "metadata": {},
   "outputs": [],
   "source": [
    "all_data = pd.concat([train_df, test_df], ignore_index=True)\n",
    "target = all_data['target']\n",
    "all_data = all_data.drop(columns='target')"
   ]
  },
  {
   "cell_type": "code",
   "execution_count": 4,
   "id": "b237c536-b689-45d1-8f3a-b84a993f3037",
   "metadata": {},
   "outputs": [],
   "source": [
    "all_data = all_data.drop(columns=['ps_ind_10_bin', 'ps_ind_11_bin', 'ps_ind_13_bin', 'ps_ind_18_bin', 'ps_ind_14'])\n",
    "\n",
    "calc_features = [col for col in all_data.columns if 'calc' in col]\n",
    "all_data = all_data.drop(columns=calc_features)"
   ]
  },
  {
   "cell_type": "code",
   "execution_count": 5,
   "id": "a9bf234a-f704-4094-a1eb-15f881f3d1c1",
   "metadata": {},
   "outputs": [
    {
     "name": "stdout",
     "output_type": "stream",
     "text": [
      "Data shape: (1488028, 33)\n"
     ]
    }
   ],
   "source": [
    "all_data_df = resumetable(all_data)\n",
    "missing_data = all_data_df[all_data_df['Missing'] > 0]\n",
    "missing_data.sort_values(by='Missing', ascending=False)\n",
    "missing_data_list = missing_data.index.tolist()"
   ]
  },
  {
   "cell_type": "code",
   "execution_count": 6,
   "id": "4ce30c68-686a-4257-949e-414d562c6815",
   "metadata": {},
   "outputs": [],
   "source": [
    "# 결측값 지시자 생성 -> 원래 결측값이었다는 사실 모델에게 전달\n",
    "for feature in missing_data_list:\n",
    "    new_feature_name = f'{feature}_ismissing'\n",
    "    all_data[new_feature_name] = (all_data[feature] == -1).astype(int)"
   ]
  },
  {
   "cell_type": "code",
   "execution_count": 7,
   "id": "e51b1cd7-b465-40cc-8b2a-b5e1e0840d94",
   "metadata": {},
   "outputs": [],
   "source": [
    "# 중앙값 대체 \n",
    "continuos_features_to_impute = ['ps_reg_03', 'ps_car_14', 'ps_car_12']\n",
    "\n",
    "for feature in continuos_features_to_impute:\n",
    "    all_data[feature] = all_data[feature].replace(-1, np.nan)\n",
    "    median_val = all_data[feature].median()\n",
    "    all_data[feature] = all_data[feature].fillna(median_val)"
   ]
  },
  {
   "cell_type": "code",
   "execution_count": 8,
   "id": "267aca3c-cd9c-4ecd-bc40-6664fd17041e",
   "metadata": {},
   "outputs": [],
   "source": [
    "all_data['ps_car_11'] = all_data['ps_car_11'].replace(-1, 3)"
   ]
  },
  {
   "cell_type": "code",
   "execution_count": 9,
   "id": "a043c61d-7838-41ce-a88a-3a8d0a2b515a",
   "metadata": {},
   "outputs": [],
   "source": [
    "# all_features = all_data.columns\n",
    "# all_data = all_data.drop(columns=['ps_ind_10_bin', 'ps_ind_11_bin', 'ps_ind_13_bin', 'ps_ind_18_bin', 'ps_ind_14'])\n",
    "# for feature in all_features:\n",
    "#     if ('calc' in feature):\n",
    "#         all_data = all_data.drop(columns=[feature])"
   ]
  },
  {
   "cell_type": "code",
   "execution_count": null,
   "id": "8f2eea4a-6ce5-46af-86cb-e798da9b2e19",
   "metadata": {},
   "outputs": [],
   "source": []
  },
  {
   "cell_type": "code",
   "execution_count": null,
   "id": "e5254b49-a58f-49bf-8ecc-e86b9c67a3cf",
   "metadata": {},
   "outputs": [],
   "source": []
  }
 ],
 "metadata": {
  "kernelspec": {
   "display_name": "Python [conda env:base] *",
   "language": "python",
   "name": "conda-base-py"
  },
  "language_info": {
   "codemirror_mode": {
    "name": "ipython",
    "version": 3
   },
   "file_extension": ".py",
   "mimetype": "text/x-python",
   "name": "python",
   "nbconvert_exporter": "python",
   "pygments_lexer": "ipython3",
   "version": "3.10.13"
  }
 },
 "nbformat": 4,
 "nbformat_minor": 5
}
